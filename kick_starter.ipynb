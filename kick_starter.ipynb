{
 "cells": [
  {
   "cell_type": "markdown",
   "metadata": {
    "colab_type": "text",
    "id": "qErww1JptQej"
   },
   "source": [
    "Objetivo do trabalho, é avaliar alguns modelos de aprendizado de máquina, utilizando o dataset: \n",
    "<br>\n",
    "https://www.kaggle.com/kemical/kickstarter-projects#ks-projects-201801.csv \n",
    "\n",
    "\n",
    "O dataset em questão possui dados de projetos do kickstarter. Os dados presentes no dataset são de: valores arecadados, o status atual do projeto, data de inicio do projeto entre outros.\n",
    "\n",
    "A idéia central e utilizar os dados para prever se um determiando projeto pode ou não ter sucesso.\n",
    "\n",
    "Os modelos de ML que serão avaliados são:\n",
    "\n",
    "*   **RandomForestClassifier**\n",
    "*   **LogisticRegression**\n",
    "*   **DecisionTreeClassifier**\n",
    "\n",
    "Os procedimentos utilizados para tratamento e manipulação dos dados serão descritos na etapa de normalização.\n",
    "\n",
    "\n",
    "\n"
   ]
  },
  {
   "cell_type": "markdown",
   "metadata": {
    "colab_type": "text",
    "id": "B5X7VVtMrRHf"
   },
   "source": [
    "Importações de bilbioteas ou módulos:\n",
    "\n",
    "**pandas**: Fazer a manipulação de arquivos csv, json, etc.\n",
    "<br>\n",
    "**sklearn**: Conhecida como scikit-learn possui modulos de aprendizado de máquina e alguns utilitários para o estátisticas de treinamento do modelo.\n",
    "<br>\n",
    "**numpy:** Utilizada para operações aritiméticas e manipulação de vetores e matrizes\n",
    "<br>\n",
    "**datetime**: Biblioteca para manipulação de data do Python.\n",
    "<br>\n",
    "**pickle**: Utilizado para serializar e desserializar uma estrutura de objeto Python.\n",
    "<br>\n",
    "**seaborn e matplotlib**: Bibliotecas gráficas para plot de gráficos estatísticos.\n",
    "\n",
    "\n"
   ]
  },
  {
   "cell_type": "code",
   "execution_count": 1,
   "metadata": {
    "colab": {},
    "colab_type": "code",
    "id": "CYwsZPnzcchG"
   },
   "outputs": [],
   "source": [
    "import pandas as pd\n",
    "import numpy as np\n",
    "from sklearn.model_selection import train_test_split\n",
    "from sklearn.ensemble import AdaBoostClassifier\n",
    "from sklearn.ensemble import RandomForestClassifier\n",
    "from sklearn.linear_model import LogisticRegression\n",
    "from sklearn.metrics import classification_report, accuracy_score, confusion_matrix\n",
    "from sklearn.tree import DecisionTreeClassifier\n",
    "import datetime\n",
    "import pickle\n",
    "import seaborn as sns\n",
    "import matplotlib.pyplot as plt"
   ]
  },
  {
   "cell_type": "code",
   "execution_count": 2,
   "metadata": {
    "colab": {},
    "colab_type": "code",
    "id": "rJXqwAcocdW9"
   },
   "outputs": [],
   "source": [
    "def replace_spaces_to_null_values(dataset, column):\n",
    "    dataset[column] = dataset[column].replace(\" \", 0)\n",
    "    \n",
    "\n",
    "def convert_column_to_float(dataset, column):\n",
    "    dataset[column] = dataset[column].astype(float)\n",
    "\n",
    "\n",
    "def remove_column(dataset, columns):\n",
    "    return dataset.drop(columns=columns)\n",
    "\n",
    "def verify_columns2(dataset):\n",
    "    for col in dataset.columns:\n",
    "        if dataset[col].dtype == 'object':\n",
    "            try:\n",
    "                replace_spaces_to_null_values(dataset, col)\n",
    "                convert_column_to_float(dataset, col)\n",
    "            except Exception:\n",
    "                pass\n",
    "\n",
    "def return_data(x, labels):\n",
    "    try:\n",
    "        labels.index(x)\n",
    "    except Exception:\n",
    "        pass\n",
    "        labels.append(x)\n",
    "    return labels.index(x)\n",
    "\n",
    "\n",
    "def normalize_csv_to_ml(dataset):\n",
    "    verify_columns2(dataset)\n",
    "    new_dataset = dataset\n",
    "    for c, t in dict(new_dataset.dtypes).items():\n",
    "        labels = []\n",
    "        if t.name == 'object':\n",
    "            new_dataset[c] = new_dataset[c].apply(lambda x: return_data(x, labels))\n",
    "    return new_dataset\n",
    "  \n"
   ]
  },
  {
   "cell_type": "markdown",
   "metadata": {
    "colab_type": "text",
    "id": "PexcG9vbtI0R"
   },
   "source": [
    "Importação do dataset e remoção das colunas \"ID\", \"name\", \"currency\". As colunas não possuem informações relevantes para uso no processo de treinamento.\n",
    "<br>\n",
    "A função **remove_column**, remove um conjunto de colunas e retorna um novo dataset.\n",
    "<br>\n",
    "A função **fillna**, preenche os valores de NA / NaN com um determinado valor ou função especificado."
   ]
  },
  {
   "cell_type": "code",
   "execution_count": 3,
   "metadata": {
    "colab": {},
    "colab_type": "code",
    "id": "Ckqqb9GUozgQ"
   },
   "outputs": [],
   "source": [
    "dataset = remove_column(pd.read_csv(\"ks-projects-201801.csv\"), ['ID', 'name', 'currency']).fillna(0)"
   ]
  },
  {
   "cell_type": "markdown",
   "metadata": {
    "colab_type": "text",
    "id": "mQPTWoXzrlKi"
   },
   "source": [
    "Como o intuito do trabalho é prever se um determinado projeto pode ter o status de sucesso, foi criada um nova coluna chamada de **new_state** baseada na coluna **state** onde foram extraídos os dados.\n",
    "<br>\n",
    "Para a nova coluna foram atribuidos valores inteiros onde as linhas que possuem o status **successful** na antiga coluna, passariam a ter o valor 1 (True). Já os demais status ficariam com o valor 0 (False).\n",
    "\n",
    "Utilizado o método apply para aplicar um determinada função sobre os dados da coluna. A função utilizada auxiliar **return_status**, retorna o valor inteiro 0 ou 1 para a condição especificada."
   ]
  },
  {
   "cell_type": "code",
   "execution_count": 4,
   "metadata": {
    "colab": {},
    "colab_type": "code",
    "id": "vFeuVPmqriF4"
   },
   "outputs": [],
   "source": [
    "def return_status(x):\n",
    "  return 1 if x == 'successful' else 0\n",
    "\n",
    "dataset['new_state'] = dataset['state'].apply(lambda x: return_status(x))"
   ]
  },
  {
   "cell_type": "markdown",
   "metadata": {
    "colab_type": "text",
    "id": "ob_V9u6L2t3x"
   },
   "source": [
    "As colunas **launched** e **deadline** possuem informações das datas de inicio e fim dos projeto, estes dados estão em formato string. Como são informações importantes para a etapa de treinamento foi criado um nova coluna chamada de **lifetime** onde foi extraido o número de dias entre essas datas. "
   ]
  },
  {
   "cell_type": "code",
   "execution_count": 5,
   "metadata": {
    "colab": {},
    "colab_type": "code",
    "id": "Rn-0PS4S2obs"
   },
   "outputs": [],
   "source": [
    "dataset['launched'] = pd.to_datetime(dataset['launched'])\n",
    "\n",
    "dataset['deadline'] = pd.to_datetime(dataset['deadline'])\n",
    "\n",
    "dataset['lifetime'] = (dataset['deadline'] - dataset['launched'])\n",
    "\n",
    "dataset['lifetime'] = dataset['lifetime'].apply(lambda x: x.days)"
   ]
  },
  {
   "cell_type": "markdown",
   "metadata": {
    "colab_type": "text",
    "id": "Wvm5R_g0_HMY"
   },
   "source": [
    "Remoção das colunas que foram utilizadas nas operações anteriores"
   ]
  },
  {
   "cell_type": "code",
   "execution_count": 6,
   "metadata": {
    "colab": {},
    "colab_type": "code",
    "id": "lbg1Ya6z_JGI"
   },
   "outputs": [],
   "source": [
    "dataset = remove_column(dataset, ['state', 'launched', 'deadline'])"
   ]
  },
  {
   "cell_type": "markdown",
   "metadata": {
    "colab_type": "text",
    "id": "jeibOfRsA3c2"
   },
   "source": [
    "O método **normalize_csv_to_ml** faz a normalização dos dados para o uso em algoritmos de aprendizado de máquina. Essa normalização consiste na substituição de dados categóricos (texto) em valore numéricos.\n",
    "<br>\n",
    "A função pega cada coluna do dataset e verifica o tipo dos dados presentes nas mesmas. Por padrão o pandas reconhece dados categóricos como **object**, então todas as colunas deste tipo devem ter seus dados convertidos para indices (números inteiros) que representem cada registro.\n",
    "<br>\n",
    "Ex:\n",
    "<br>\n",
    "Poetry = 1\n",
    "<br>\n",
    "Narrative Film = 2\n",
    "<br>\n",
    "Music = 3\n",
    "<br>\n",
    "...\n",
    "<br>"
   ]
  },
  {
   "cell_type": "code",
   "execution_count": 7,
   "metadata": {
    "colab": {},
    "colab_type": "code",
    "id": "HPe3sh6tAy0U"
   },
   "outputs": [],
   "source": [
    "new_dataset = normalize_csv_to_ml(dataset)"
   ]
  },
  {
   "cell_type": "markdown",
   "metadata": {
    "colab_type": "text",
    "id": "o3JvQHOBGxom"
   },
   "source": [
    "Nesta parte é feita a separação dos dados para o treinamento. São separados em dois conjuntos sendo o conjunto **y_values** onde a variavel alvo do trabalho é armazenada, no caso a coluna **new_state**.\n",
    "\n",
    "Já o conjunto **x_values**, possue as demais colunas selecionadas para o treinamento."
   ]
  },
  {
   "cell_type": "code",
   "execution_count": 8,
   "metadata": {
    "colab": {},
    "colab_type": "code",
    "id": "Pwp50y6RGvSR"
   },
   "outputs": [],
   "source": [
    "x_values = remove_column(new_dataset, ['new_state']).values\n",
    "y_values = new_dataset['new_state'].values"
   ]
  },
  {
   "cell_type": "markdown",
   "metadata": {
    "colab_type": "text",
    "id": "hGDk9qxlQWxq"
   },
   "source": [
    "Divisão do conjunto em dados de treinamento e dados para teste "
   ]
  },
  {
   "cell_type": "code",
   "execution_count": 9,
   "metadata": {
    "colab": {},
    "colab_type": "code",
    "id": "USXIFzt8cg-o"
   },
   "outputs": [],
   "source": [
    "x_train, x_train_test, y_train, y_train_test = train_test_split(x_values, y_values, test_size=0.20)"
   ]
  },
  {
   "cell_type": "markdown",
   "metadata": {
    "colab_type": "text",
    "id": "KWmH4CUpRIwE"
   },
   "source": [
    "Divisão opicional onde os dados de testes são divididos para se obter um conjunto para teste do modelo após o processo de treinamento."
   ]
  },
  {
   "cell_type": "code",
   "execution_count": 10,
   "metadata": {
    "colab": {},
    "colab_type": "code",
    "id": "oKYLi9wzU0jt"
   },
   "outputs": [],
   "source": [
    "x_test, x_test_model, y_test, y_test_model = train_test_split(x_train_test, y_train_test, test_size=0.10)"
   ]
  },
  {
   "cell_type": "markdown",
   "metadata": {
    "colab_type": "text",
    "id": "yCyKg8w4RV_d"
   },
   "source": [
    "Criação dos 3 modelos para testes. Foram utilizados os parametros default de cada modelo.\n",
    "<br>\n",
    "As funções **confusion_matrix**, **classification_report** e **accuracy_score** retornam estatisticas do modelo após o treinamento utilizandos os dados de teste.\n",
    "<br>\n",
    "O método **dump** da biblioteca pickle salva o modelo treinado em arquivo no formato .sav, possibilitando a utilização do mesmo em outras aplicações. "
   ]
  },
  {
   "cell_type": "code",
   "execution_count": 11,
   "metadata": {
    "colab": {},
    "colab_type": "code",
    "id": "E2rKL6LEfCsF"
   },
   "outputs": [],
   "source": [
    "def run_logistic_regression():\n",
    "    print('------------------/Logistic_regression/--------------------------')\n",
    "    test_model = LogisticRegression()\n",
    "    test_model.fit(x_train, y_train)\n",
    "    pred = test_model.predict(x_test)\n",
    "    print('Matriz de confusão')\n",
    "    print(confusion_matrix(y_test, pred))\n",
    "    print('Reports')\n",
    "    print(classification_report(y_test, pred))\n",
    "    print('Accuracy')\n",
    "    print(accuracy_score(y_test, pred))\n",
    "    pickle.dump(test_model, open('logistic_regression.sav', 'wb'))\n",
    "    print('------------------/End/--------------------------')\n",
    "\n",
    "\n",
    "def run_random_forest():\n",
    "    print('------------------/Random_Forest/--------------------------')\n",
    "    test_model = RandomForestClassifier()\n",
    "    test_model.fit(x_train, y_train)\n",
    "    pred = test_model.predict(x_test)\n",
    "    print('Matriz de confusão')\n",
    "    print(confusion_matrix(y_test, pred))\n",
    "    print('Reports')\n",
    "    print(classification_report(y_test, pred))\n",
    "    print('Accuracy')\n",
    "    print(accuracy_score(y_test, pred))\n",
    "    pickle.dump(test_model, open('random_forest.sav', 'wb'))\n",
    "    print('------------------/End/--------------------------')\n",
    "\n",
    "\n",
    "def run_decision_tree_classifier():\n",
    "    print('------------------/Decision_Tree/--------------------------')\n",
    "    test_model = DecisionTreeClassifier()\n",
    "    test_model.fit(x_train, y_train)\n",
    "    pred = test_model.predict(x_test)\n",
    "    print('Matriz de confusão')\n",
    "    print(confusion_matrix(y_test, pred))\n",
    "    print('Reports')\n",
    "    print(classification_report(y_test, pred))\n",
    "    print('Accuracy')\n",
    "    print(accuracy_score(y_test, pred))\n",
    "    pickle.dump(test_model, open('decision_tree_classifier.sav', 'wb'))\n",
    "    print('------------------/End/--------------------------')"
   ]
  },
  {
   "cell_type": "markdown",
   "metadata": {},
   "source": [
    "A Matriz de confusão segue a estrutura presente na seguinte imagem:\n",
    "<br>\n",
    "<img src=\"http://2.bp.blogspot.com/_qIDcOEX659I/SlkCLyH_zuI/AAAAAAAAAlw/l8ypxkWq0vU/contingencia_thumb%5B1%5D.png\"/>\n",
    "<br>\n",
    "**VP**: ocorre quando no conjunto, a classe que estamos buscando foi prevista corretamente. Por exemplo, quando o projeto conseguiu obeter sucesso e o modelo treinado previu corretamente que o mesmo projeto terá sucesso.\n",
    "<br>\n",
    "**VN**:  ocorre quando no conjunto, a classe que não estamos buscando prever foi prevista corretamente. Exemplo: o projeto não obteve sucesso, e o modelo previu corretamente que ele não obteve.\n",
    "<br>\n",
    "**FP**: ocorre quando no conjunto, a classe que estamos buscando prever foi prevista incorretamente. Exemplo: o projeto não obteve sucesso, mas o modelo disse que ele obteve.\n",
    "<br>\n",
    "**FN**: ocorre quando no conjunto, a classe que não estamos buscando prever foi prevista incorretamente. Por exemplo, quando a o projeto teve sucesso mas o modelo previu incorretamente que ela não teve sucesso.\n",
    "<br>\n",
    "<br>\n",
    "\n",
    "**precision**: Precisão do modelo para cada classe de treinamento.\n",
    "<br>\n",
    "**recall**: O recall é a razão entre o número de verdadeiros positivos e o número de falsos negativos. O recall é intuitivamente a capacidade do classificador de encontrar todas as amostras positivas. **(vp / (vp + fn))**\n",
    "<br>\n",
    "**f1-score**: A f1-score pode ser interpretada como uma média ponderada da precisão e o recall.\n",
    "<br>\n",
    "**support**: É o número de ocorrências de cada classe."
   ]
  },
  {
   "cell_type": "code",
   "execution_count": 12,
   "metadata": {
    "colab": {},
    "colab_type": "code",
    "id": "-HgU5hyniQBb",
    "scrolled": false
   },
   "outputs": [
    {
     "name": "stdout",
     "output_type": "stream",
     "text": [
      "------------------/Logistic_regression/--------------------------\n"
     ]
    },
    {
     "name": "stderr",
     "output_type": "stream",
     "text": [
      "C:\\Users\\Giovani\\anaconda3\\lib\\site-packages\\sklearn\\linear_model\\_logistic.py:940: ConvergenceWarning: lbfgs failed to converge (status=1):\n",
      "STOP: TOTAL NO. of ITERATIONS REACHED LIMIT.\n",
      "\n",
      "Increase the number of iterations (max_iter) or scale the data as shown in:\n",
      "    https://scikit-learn.org/stable/modules/preprocessing.html\n",
      "Please also refer to the documentation for alternative solver options:\n",
      "    https://scikit-learn.org/stable/modules/linear_model.html#logistic-regression\n",
      "  extra_warning_msg=_LOGISTIC_SOLVER_CONVERGENCE_MSG)\n"
     ]
    },
    {
     "name": "stdout",
     "output_type": "stream",
     "text": [
      "Matriz de confusão\n",
      "[[43461   665]\n",
      " [  432 23601]]\n",
      "Reports\n",
      "              precision    recall  f1-score   support\n",
      "\n",
      "           0       0.99      0.98      0.99     44126\n",
      "           1       0.97      0.98      0.98     24033\n",
      "\n",
      "    accuracy                           0.98     68159\n",
      "   macro avg       0.98      0.98      0.98     68159\n",
      "weighted avg       0.98      0.98      0.98     68159\n",
      "\n",
      "Accuracy\n",
      "0.9839052803004739\n",
      "------------------/End/--------------------------\n",
      "------------------/Random_Forest/--------------------------\n",
      "Matriz de confusão\n",
      "[[43797   329]\n",
      " [   34 23999]]\n",
      "Reports\n",
      "              precision    recall  f1-score   support\n",
      "\n",
      "           0       1.00      0.99      1.00     44126\n",
      "           1       0.99      1.00      0.99     24033\n",
      "\n",
      "    accuracy                           0.99     68159\n",
      "   macro avg       0.99      1.00      0.99     68159\n",
      "weighted avg       0.99      0.99      0.99     68159\n",
      "\n",
      "Accuracy\n",
      "0.9946742176381695\n",
      "------------------/End/--------------------------\n",
      "------------------/Decision_Tree/--------------------------\n",
      "Matriz de confusão\n",
      "[[43802   324]\n",
      " [  373 23660]]\n",
      "Reports\n",
      "              precision    recall  f1-score   support\n",
      "\n",
      "           0       0.99      0.99      0.99     44126\n",
      "           1       0.99      0.98      0.99     24033\n",
      "\n",
      "    accuracy                           0.99     68159\n",
      "   macro avg       0.99      0.99      0.99     68159\n",
      "weighted avg       0.99      0.99      0.99     68159\n",
      "\n",
      "Accuracy\n",
      "0.9897739110022155\n",
      "------------------/End/--------------------------\n"
     ]
    }
   ],
   "source": [
    "run_logistic_regression()\n",
    "run_random_forest()\n",
    "run_decision_tree_classifier()"
   ]
  },
  {
   "cell_type": "markdown",
   "metadata": {},
   "source": [
    "O método **load** é utilizado para importar o arquivo com o modelo treinado. Foi importado o modelo treinado com o algoritmo random_forest, pois o mesmo demostrou um melhor resultado no treinamento. "
   ]
  },
  {
   "cell_type": "code",
   "execution_count": 13,
   "metadata": {
    "colab": {},
    "colab_type": "code",
    "id": "tNqcVKgDdsyv"
   },
   "outputs": [],
   "source": [
    "model_loaded = pickle.load(open('random_forest.sav','rb'))"
   ]
  },
  {
   "cell_type": "markdown",
   "metadata": {},
   "source": [
    "Foi implementado um método para uma contagem manual, onde os resultados ficaram muito próximos dos resultados apresentados nas métricas durante o treinamento."
   ]
  },
  {
   "cell_type": "code",
   "execution_count": 18,
   "metadata": {
    "colab": {},
    "colab_type": "code",
    "id": "7CQjYVG9Wf-f"
   },
   "outputs": [
    {
     "name": "stdout",
     "output_type": "stream",
     "text": [
      "Acertou: 7538\n",
      "Porcentagem de acertos: 99.5247%\n",
      "Errou: 36\n",
      "Porcentagem de erros: 0.4753%\n"
     ]
    },
    {
     "data": {
      "image/png": "[encoded data removed]",
      "text/plain": [
       "<Figure size 432x288 with 1 Axes>"
      ]
     },
     "metadata": {
      "needs_background": "light"
     },
     "output_type": "display_data"
    }
   ],
   "source": [
    "countTrue = 0\n",
    "countFalse = 0\n",
    "test_classes = []\n",
    "\n",
    "for i in range(len(x_test_model)):\n",
    "    test = model_loaded.predict(x_test_model[i].reshape(1, -1))\n",
    "    test_classes.append(test)\n",
    "    if test == y_test_model[i]:\n",
    "        countTrue += 1\n",
    "    else:\n",
    "        countFalse += 1\n",
    "    \n",
    "print('Acertou: {0:.0f}'.format(countTrue))\n",
    "print('Porcentagem de acertos: {0:.4f}%'.format((countTrue / len(x_test_model)) * 100))\n",
    "print('Errou: {0:.0f}'.format(countFalse))\n",
    "print('Porcentagem de erros: {0:.4f}%'.format((countFalse / len(x_test_model)) * 100))\n",
    "\n",
    "result_test_classes = list(map(lambda x: 'successful' if x == 1 else 'failed', test_classes))\n",
    "\n",
    "result_data_classes = pd.DataFrame(result_test_classes, columns=['classes'])\n",
    "\n",
    "p = sns.countplot(x=\"classes\", data = result_data_classes, palette=\"muted\")\n",
    "_ = plt.setp(p.get_xticklabels(), rotation=90) "
   ]
  }
 ],
 "metadata": {
  "accelerator": "GPU",
  "colab": {
   "collapsed_sections": [],
   "name": "kick_starter.ipynb",
   "provenance": []
  },
  "kernelspec": {
   "display_name": "Python 3",
   "language": "python",
   "name": "python3"
  },
  "language_info": {
   "codemirror_mode": {
    "name": "ipython",
    "version": 3
   },
   "file_extension": ".py",
   "mimetype": "text/x-python",
   "name": "python",
   "nbconvert_exporter": "python",
   "pygments_lexer": "ipython3",
   "version": "3.7.6"
  }
 },
 "nbformat": 4,
 "nbformat_minor": 1
}
